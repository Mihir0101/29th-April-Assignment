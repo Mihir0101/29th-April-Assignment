{
 "cells": [
  {
   "cell_type": "markdown",
   "id": "09cf57ed-b67d-4577-8952-a658ff83ccfe",
   "metadata": {},
   "source": [
    "# 29th April Assignment"
   ]
  },
  {
   "cell_type": "code",
   "execution_count": null,
   "id": "d421f814-f6fe-42b8-9647-39c69d0b558c",
   "metadata": {},
   "outputs": [],
   "source": []
  },
  {
   "cell_type": "markdown",
   "id": "69eb5533-3cbe-42b8-a859-77046b4989f2",
   "metadata": {},
   "source": [
    "## Q1. Explain the basic concept of clustering and give examples of applications where clustering is useful."
   ]
  },
  {
   "cell_type": "markdown",
   "id": "a2226644-d426-4fba-8b50-65f65d3bc855",
   "metadata": {},
   "source": [
    "- > In clustering we create a group of similar type of data that is called clusters.\n",
    "\n",
    "* We can use this clusters for many uses :\n",
    "\n",
    "Business Usecase\n",
    "\n",
    "Healthcare\n",
    "\n",
    "Marketing"
   ]
  },
  {
   "cell_type": "code",
   "execution_count": null,
   "id": "9063def0-d3a8-4668-8787-b4d80e265d8b",
   "metadata": {},
   "outputs": [],
   "source": []
  },
  {
   "cell_type": "markdown",
   "id": "0b6854e1-7fe6-42e6-8d4b-15ba60032c61",
   "metadata": {},
   "source": [
    "## Q2. What is DBSCAN and how does it differ from other clustering algorithms such as k-means and hierarchical clustering?"
   ]
  },
  {
   "cell_type": "markdown",
   "id": "33ca4f17-0b30-47a6-96bc-ba0dfacf58f0",
   "metadata": {},
   "source": [
    "DBSCAN is a density based algorithm.\n",
    "\n",
    "In this algorithm we don't have to decide number of clusters.\n",
    "\n",
    "We create clusters based on points and that points are created by redius.\n",
    "\n",
    "Center Point : Number of datapoints should be >= minimum datapoints.\n",
    "\n",
    "Border Point : Number of datapoints should be < minimum datapoints.\n",
    "\n",
    "Noise Point : None of datapoint lies in it."
   ]
  },
  {
   "cell_type": "code",
   "execution_count": null,
   "id": "8579553f-b071-4c50-95e4-9ca510303b9a",
   "metadata": {},
   "outputs": [],
   "source": []
  },
  {
   "cell_type": "markdown",
   "id": "55dde22b-8e84-4b1f-835a-3031660a2d63",
   "metadata": {},
   "source": [
    "## Q3. How do you determine the optimal values for the epsilon and minimum points parameters in DBSCAN clustering?"
   ]
  },
  {
   "cell_type": "markdown",
   "id": "eb8d6e3a-b5da-44da-ae3f-2c7c083eed48",
   "metadata": {},
   "source": [
    "Visualization : We can visualize our data through different graphs.We can get optimal value of epsilon by examine the structure.\n",
    "\n",
    "Domain Knowledge : We can cosider the our knowledge to the data and domian problem.\n",
    "\n",
    "Silhouette Score : Use silhouette score to evaluate the quality of resulting cluster through different combinations of parameters.\n",
    "\n",
    "Consider Noise : We have to keep in mind the level of noise for our application.Smaller epsilon gives more clusters but also captures noise with it."
   ]
  },
  {
   "cell_type": "code",
   "execution_count": null,
   "id": "8e1d03fa-1e62-466d-a2b4-d1d660fe58e3",
   "metadata": {},
   "outputs": [],
   "source": []
  },
  {
   "cell_type": "markdown",
   "id": "49a29b33-fb08-4237-89cf-612b2c58983c",
   "metadata": {},
   "source": [
    "## Q4. How does DBSCAN clustering handle outliers in a dataset?"
   ]
  },
  {
   "cell_type": "markdown",
   "id": "8d08fa40-275e-4adf-a9e0-1589881efbc6",
   "metadata": {},
   "source": []
  },
  {
   "cell_type": "code",
   "execution_count": null,
   "id": "a0aa8144-d6d0-4590-a66b-5918a54a1898",
   "metadata": {},
   "outputs": [],
   "source": []
  },
  {
   "cell_type": "markdown",
   "id": "a24e9ae0-cc31-4ff6-9dfc-ef64368aee7d",
   "metadata": {},
   "source": [
    "\n",
    "Q5. How does DBSCAN clustering differ from k-means clustering?\n",
    "Q6. Can DBSCAN clustering be applied to datasets with high dimensional feature spaces? If so, what are\n",
    "some potential challenges?\n",
    "Q7. How does DBSCAN clustering handle clusters with varying densities?\n",
    "Q8. What are some common evaluation metrics used to assess the quality of DBSCAN clustering results?\n",
    "Q9. Can DBSCAN clustering be used for semi-supervised learning tasks?\n",
    "Q10. How does DBSCAN clustering handle datasets with noise or missing values?\n",
    "Q11. Implement the DBSCAN algorithm using a python programming language, and apply it to a sample\n",
    "dataset. Discuss the clustering results and interpret the meaning of the obtained clusters."
   ]
  }
 ],
 "metadata": {
  "kernelspec": {
   "display_name": "Python 3 (ipykernel)",
   "language": "python",
   "name": "python3"
  },
  "language_info": {
   "codemirror_mode": {
    "name": "ipython",
    "version": 3
   },
   "file_extension": ".py",
   "mimetype": "text/x-python",
   "name": "python",
   "nbconvert_exporter": "python",
   "pygments_lexer": "ipython3",
   "version": "3.10.8"
  }
 },
 "nbformat": 4,
 "nbformat_minor": 5
}
